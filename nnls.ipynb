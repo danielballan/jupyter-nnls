{
 "cells": [
  {
   "cell_type": "markdown",
   "metadata": {},
   "source": [
    "## Salt Study\n",
    "\n",
    "In the menu above, go to Cell > Run All, and then scroll to the bottom."
   ]
  },
  {
   "cell_type": "code",
   "execution_count": 1,
   "metadata": {},
   "outputs": [],
   "source": [
    "import subprocess\n",
    "from ipywidgets import BoundedFloatText, HBox, VBox, Button, FloatText"
   ]
  },
  {
   "cell_type": "code",
   "execution_count": null,
   "metadata": {},
   "outputs": [],
   "source": [
    "input_widgets = [BoundedFloatText(value=0, min=0, step=0.1, description=f'$b_{{{i // 3 + 1}{i % 3 + 1}}}$')\n",
    "                 for i in range(9)]\n",
    "input_widgets += [BoundedFloatText(value=0, min=0, step=0.1, description=f'$y_{i + 1}$')\n",
    "                  for i in range(3)]\n",
    "result_widgets = [FloatText(value=0, min=0, description=f'$x_{i}$') for i in range(3)]\n",
    "compute_button = Button(description='Compute')\n",
    "\n",
    "\n",
    "def format_input(input_widgets):\n",
    "    values = [widget.value for widget in input_widgets]\n",
    "    \n",
    "    return f\"\"\"0 3 3\n",
    "{values[0]} {values[1]} {values[2]}\n",
    "{values[3]} {values[4]} {values[5]}\n",
    "{values[6]} {values[7]} {values[8]}\n",
    "{values[9]} {values[10]} {values[11]}\n",
    "    \"\"\"\n",
    "\n",
    "def parse_output(output):\n",
    "    lines = output.splitlines()[3:6]  # lines of interest (under 'constrained solution')\n",
    "    return [float(line.split()[1]) for line in lines]\n",
    "\n",
    "\n",
    "def compute(btn):\n",
    "    \"\"\"\n",
    "    Run scientific program in subprocess and display result.\n",
    "\n",
    "    This function is intended by to hooked up to a Button widget.\n",
    "    When some Button btn is clicked, compute(btn) is called.\n",
    "\n",
    "    It extracts values from widget state and passes them to the\n",
    "    program's stdin. It captures the stdout and updates a widget\n",
    "    to display the result.\n",
    "    \"\"\"\n",
    "    PATH_TO_BINARY = 'salt_study'\n",
    "    process = subprocess.run([PATH_TO_BINARY],\n",
    "                             input=format_input(input_widgets).encode(),\n",
    "                             stdout=subprocess.PIPE)\n",
    "    x = parse_output(process.stdout.decode())\n",
    "    for x_i, widget in zip(x, result_widgets):\n",
    "        widget.value = x_i\n",
    "        \n",
    "    \n",
    "compute_button.on_click(compute)"
   ]
  },
  {
   "cell_type": "code",
   "execution_count": 106,
   "metadata": {},
   "outputs": [
    {
     "data": {
      "application/vnd.jupyter.widget-view+json": {
       "model_id": "956e36a2a4854c968496b5faf5e7309a",
       "version_major": 2,
       "version_minor": 0
      },
      "text/html": [
       "<p>Failed to display Jupyter Widget of type <code>VBox</code>.</p>\n",
       "<p>\n",
       "  If you're reading this message in the Jupyter Notebook or JupyterLab Notebook, it may mean\n",
       "  that the widgets JavaScript is still loading. If this message persists, it\n",
       "  likely means that the widgets JavaScript library is either not installed or\n",
       "  not enabled. See the <a href=\"https://ipywidgets.readthedocs.io/en/stable/user_install.html\">Jupyter\n",
       "  Widgets Documentation</a> for setup instructions.\n",
       "</p>\n",
       "<p>\n",
       "  If you're reading this message in another frontend (for example, a static\n",
       "  rendering on GitHub or <a href=\"https://nbviewer.jupyter.org/\">NBViewer</a>),\n",
       "  it may mean that your frontend doesn't currently support widgets.\n",
       "</p>\n"
      ],
      "text/plain": [
       "VBox(children=(VBox(children=(HBox(children=(BoundedFloatText(value=0.0, description='$b_{11}$', step=0.1), BoundedFloatText(value=0.0, description='$b_{12}$', step=0.1), BoundedFloatText(value=0.0, description='$b_{13}$', step=0.1))), HBox(children=(BoundedFloatText(value=0.0, description='$b_{21}$', step=0.1), BoundedFloatText(value=0.0, description='$b_{22}$', step=0.1), BoundedFloatText(value=0.0, description='$b_{23}$', step=0.1))), HBox(children=(BoundedFloatText(value=0.0, description='$b_{31}$', step=0.1), BoundedFloatText(value=0.0, description='$b_{32}$', step=0.1), BoundedFloatText(value=0.0, description='$b_{33}$', step=0.1))))), HBox(children=(BoundedFloatText(value=0.0, description='$y_1$', step=0.1), BoundedFloatText(value=0.0, description='$y_2$', step=0.1), BoundedFloatText(value=0.0, description='$y_3$', step=0.1))), Button(description='Compute', style=ButtonStyle()), HBox(children=(FloatText(value=0.0, description='$x_0$'), FloatText(value=0.0, description='$x_1$'), FloatText(value=0.0, description='$x_2$')))))"
      ]
     },
     "metadata": {},
     "output_type": "display_data"
    }
   ],
   "source": [
    "b_layout = VBox([HBox(input_widgets[:3]),\n",
    "                 HBox(input_widgets[3:6]),\n",
    "                 HBox(input_widgets[6:9])])\n",
    "y_layout = HBox(input_widgets[9:12])\n",
    "result_layout = HBox(result_widgets)\n",
    "\n",
    "layout = VBox([b_layout, y_layout, compute_button, result_layout])\n",
    "\n",
    "layout"
   ]
  },
  {
   "cell_type": "code",
   "execution_count": null,
   "metadata": {},
   "outputs": [],
   "source": []
  }
 ],
 "metadata": {
  "kernelspec": {
   "display_name": "Python 3",
   "language": "python",
   "name": "python3"
  },
  "language_info": {
   "codemirror_mode": {
    "name": "ipython",
    "version": 3
   },
   "file_extension": ".py",
   "mimetype": "text/x-python",
   "name": "python",
   "nbconvert_exporter": "python",
   "pygments_lexer": "ipython3",
   "version": "3.6.4"
  }
 },
 "nbformat": 4,
 "nbformat_minor": 2
}
