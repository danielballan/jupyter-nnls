{
 "cells": [
  {
   "cell_type": "markdown",
   "metadata": {},
   "source": [
    "## Requirements\n",
    "\n",
    "* Python 3.6+\n",
    "* ipywidgets"
   ]
  },
  {
   "cell_type": "code",
   "execution_count": 1,
   "metadata": {},
   "outputs": [],
   "source": [
    "import subprocess\n",
    "from ipywidgets import BoundedFloatText, HBox, VBox, Button, FloatText"
   ]
  },
  {
   "cell_type": "code",
   "execution_count": null,
   "metadata": {},
   "outputs": [],
   "source": [
    "a = BoundedFloatText(value=0, min=0, step=0.1, description='a')\n",
    "b = BoundedFloatText(value=0, min=0, step=0.1, description='b')\n",
    "result = FloatText(value=0, min=0, description='result')\n",
    "compute_button = Button(description='Compute')\n",
    "\n",
    "\n",
    "def compute(btn):\n",
    "    \"\"\"\n",
    "    Run scientific program in subprocess and display result.\n",
    "\n",
    "    This function is intended by to hooked up to a Button widget.\n",
    "    When some Button btn is clicked, compute(btn) is called.\n",
    "\n",
    "    It extracts values from widget state and passes them to the\n",
    "    program's stdin. It captures the stdout and updates a widget\n",
    "    to display the result.\n",
    "    \"\"\"\n",
    "    PATH_TO_BINARY = '/Users/dallan/Documents/Repos/jupyter-nlls/a.out'\n",
    "    process = subprocess.run([PATH_TO_BINARY],\n",
    "                             input=f'{a.value}\\n{b.value}\\n'.encode(),\n",
    "                             stdout=subprocess.PIPE)\n",
    "    result.value = float(process.stdout)\n",
    "    \n",
    "compute_button.on_click(compute)"
   ]
  },
  {
   "cell_type": "code",
   "execution_count": 3,
   "metadata": {},
   "outputs": [
    {
     "data": {
      "application/vnd.jupyter.widget-view+json": {
       "model_id": "2666b60cc6a14c4c982b59a4b4ee1d28",
       "version_major": 2,
       "version_minor": 0
      },
      "text/html": [
       "<p>Failed to display Jupyter Widget of type <code>VBox</code>.</p>\n",
       "<p>\n",
       "  If you're reading this message in the Jupyter Notebook or JupyterLab Notebook, it may mean\n",
       "  that the widgets JavaScript is still loading. If this message persists, it\n",
       "  likely means that the widgets JavaScript library is either not installed or\n",
       "  not enabled. See the <a href=\"https://ipywidgets.readthedocs.io/en/stable/user_install.html\">Jupyter\n",
       "  Widgets Documentation</a> for setup instructions.\n",
       "</p>\n",
       "<p>\n",
       "  If you're reading this message in another frontend (for example, a static\n",
       "  rendering on GitHub or <a href=\"https://nbviewer.jupyter.org/\">NBViewer</a>),\n",
       "  it may mean that your frontend doesn't currently support widgets.\n",
       "</p>\n"
      ],
      "text/plain": [
       "VBox(children=(HBox(children=(BoundedFloatText(value=0.0, description='a', step=0.1), BoundedFloatText(value=0.0, description='b', step=0.1))), FloatText(value=0.0, description='result'), Button(description='Compute', style=ButtonStyle())))"
      ]
     },
     "metadata": {},
     "output_type": "display_data"
    }
   ],
   "source": [
    "VBox([HBox([a, b]), result, compute_button])"
   ]
  },
  {
   "cell_type": "code",
   "execution_count": null,
   "metadata": {},
   "outputs": [],
   "source": []
  }
 ],
 "metadata": {
  "kernelspec": {
   "display_name": "Python 3",
   "language": "python",
   "name": "python3"
  },
  "language_info": {
   "codemirror_mode": {
    "name": "ipython",
    "version": 3
   },
   "file_extension": ".py",
   "mimetype": "text/x-python",
   "name": "python",
   "nbconvert_exporter": "python",
   "pygments_lexer": "ipython3",
   "version": "3.6.4"
  }
 },
 "nbformat": 4,
 "nbformat_minor": 2
}
